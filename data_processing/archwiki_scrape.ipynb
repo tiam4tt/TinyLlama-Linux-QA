{
 "cells": [
  {
   "cell_type": "code",
   "execution_count": null,
   "id": "b329478a",
   "metadata": {},
   "outputs": [],
   "source": [
    "import  requests\n",
    "import  datetime\n",
    "import  json\n",
    "import  time\n",
    "from    multiprocessing import Pool, cpu_count\n",
    "from    bs4             import BeautifulSoup\n",
    "from    tqdm            import tqdm\n",
    "\n",
    "BASE_API = \"https://wiki.archlinux.org/api.php\"\n",
    "BASE_URL = \"https://wiki.archlinux.org/title\"\n",
    "HEADERS = {\"User-Agent\": \"ArchWikiScraper/1.0 (chatbot training)\"}\n",
    "OUTPUT_JSONL = \"archwiki_en_dataset.jsonl\"\n",
    "TITLES_LIST = \"/work/titles.txt\"\n",
    "\n",
    "def get_all_pages():\n",
    "    titles = []\n",
    "    apcontinue = None\n",
    "    while True:\n",
    "        params = {\n",
    "            \"action\": \"query\",\n",
    "            \"format\": \"json\",\n",
    "            \"list\": \"allpages\",\n",
    "            \"aplimit\": \"500\",\n",
    "        }\n",
    "        if apcontinue:\n",
    "            params[\"apcontinue\"] = apcontinue\n",
    "\n",
    "        response = requests.get(BASE_API, params=params, headers=HEADERS).json()\n",
    "        pages = response[\"query\"][\"allpages\"]\n",
    "        \n",
    "        titles.extend([p[\"title\"] for p in pages if \"/\" not in p[\"title\"] and \"(\" not in p[\"title\"]])\n",
    "\n",
    "        if \"continue\" in response:\n",
    "            apcontinue = response[\"continue\"][\"apcontinue\"]\n",
    "            time.sleep(0.3)\n",
    "        else:\n",
    "            break\n",
    "    return titles\n",
    "\n",
    "\n",
    "def scrape_single_page(title):\n",
    "    url = f\"{BASE_URL}/{title.replace(' ', '_')}?action=render\"\n",
    "    try:\n",
    "        response = requests.get(url, headers=HEADERS, timeout=10)\n",
    "        response.raise_for_status()\n",
    "    except Exception as e:\n",
    "        print(f\"[!] Failed to fetch {title}: {e}\")\n",
    "        return []\n",
    "\n",
    "    soup = BeautifulSoup(response.text, \"html.parser\")\n",
    "\n",
    "    page_data = []\n",
    "    current_question = f\"What is {title}?\"\n",
    "    current_context = \"\"\n",
    "\n",
    "    for elem in soup.find_all([\"h2\", \"h3\", \"p\", \"ul\", \"ol\", \"pre\", \"code\"]):\n",
    "        if elem.name in [\"h2\", \"h3\"]:\n",
    "            if current_context.strip():\n",
    "                page_data.append({\n",
    "                    \"input_text\": current_question,\n",
    "                    \"target_text\": current_context.strip()\n",
    "                })\n",
    "            current_question = elem.get_text().strip()\n",
    "            current_context = \"\"\n",
    "        else:\n",
    "            current_context += \"\\n\" + elem.get_text()\n",
    "\n",
    "    return page_data\n",
    "\n",
    "def scrape_batch(titles):\n",
    "    all_data = []\n",
    "    for title in titles:\n",
    "        entries = scrape_single_page(title)\n",
    "        all_data.extend(entries)\n",
    "    return all_data\n",
    "\n",
    "def scrape_all_parallel():\n",
    "    titles = get_all_pages()\n",
    "    print(f\"🔍 Total pages to scrape: {len(titles)}\")\n",
    "    with open(TITLES_LIST, \"w\", encoding=\"utf-8\") as f:\n",
    "        for title in titles:\n",
    "            f.write(title + \"\\n\")\n",
    "    print(f\"📝 Saved all titles to {TITLES_LIST}\")\n",
    "\n",
    "    chunksize = len(titles) // cpu_count()\n",
    "    with Pool(processes=cpu_count()) as pool:\n",
    "        results = []\n",
    "        with tqdm(total=len(titles), desc=\"Scraping pages\", unit=\"page\") as pbar:\n",
    "            for batch in pool.imap(scrape_batch, [titles[i:i+chunksize] for i in range(0, len(titles), chunksize)]):\n",
    "                results.append(batch)\n",
    "                pbar.update(len(batch))\n",
    "\n",
    "    all_entries = [entry for batch in results for entry in batch]\n",
    "\n",
    "    with open(OUTPUT_JSONL, \"w\", encoding=\"utf-8\") as f:\n",
    "        for entry in all_entries:\n",
    "            f.write(json.dumps(entry, ensure_ascii=False) + \"\\n\")\n",
    "\n",
    "    print(f\"✅ Done. Scraped {len(all_entries)} entries to {OUTPUT_JSONL}\")\n"
   ]
  },
  {
   "cell_type": "code",
   "execution_count": 4,
   "id": "cf3bbb2e",
   "metadata": {},
   "outputs": [
    {
     "name": "stdout",
     "output_type": "stream",
     "text": [
      "🔍 Total pages to scrape: 7362\n"
     ]
    },
    {
     "name": "stderr",
     "output_type": "stream",
     "text": [
      "Scraping pages:   0%|          | 0/7362 [00:00<?, ?page/s]"
     ]
    },
    {
     "name": "stdout",
     "output_type": "stream",
     "text": [
      "[!] Failed to fetch Template;AUR?: 404 Client Error: Not Found for url: https://wiki.archlinux.org/title/Template;AUR??action=render\n"
     ]
    },
    {
     "name": "stderr",
     "output_type": "stream",
     "text": [
      "Scraping pages:   0%|          | 0/7362 [18:16<?, ?page/s]Process ForkPoolWorker-13:\n",
      "Process ForkPoolWorker-24:\n",
      "Process ForkPoolWorker-16:\n",
      "Process ForkPoolWorker-23:\n",
      "Process ForkPoolWorker-18:\n",
      "Process ForkPoolWorker-15:\n",
      "Process ForkPoolWorker-20:\n",
      "Process ForkPoolWorker-21:\n",
      "Process ForkPoolWorker-19:\n",
      "\n"
     ]
    },
    {
     "ename": "KeyboardInterrupt",
     "evalue": "",
     "output_type": "error",
     "traceback": [
      "\u001b[0;31m---------------------------------------------------------------------------\u001b[0m",
      "\u001b[0;31mIndexError\u001b[0m                                Traceback (most recent call last)",
      "File \u001b[0;32m~/miniconda3/envs/py313_env/lib/python3.12/multiprocessing/pool.py:856\u001b[0m, in \u001b[0;36mIMapIterator.next\u001b[0;34m(self, timeout)\u001b[0m\n\u001b[1;32m    855\u001b[0m \u001b[38;5;28;01mtry\u001b[39;00m:\n\u001b[0;32m--> 856\u001b[0m     item \u001b[38;5;241m=\u001b[39m \u001b[38;5;28;43mself\u001b[39;49m\u001b[38;5;241;43m.\u001b[39;49m\u001b[43m_items\u001b[49m\u001b[38;5;241;43m.\u001b[39;49m\u001b[43mpopleft\u001b[49m\u001b[43m(\u001b[49m\u001b[43m)\u001b[49m\n\u001b[1;32m    857\u001b[0m \u001b[38;5;28;01mexcept\u001b[39;00m \u001b[38;5;167;01mIndexError\u001b[39;00m:\n",
      "\u001b[0;31mIndexError\u001b[0m: pop from an empty deque",
      "\nDuring handling of the above exception, another exception occurred:\n",
      "\u001b[0;31mKeyboardInterrupt\u001b[0m                         Traceback (most recent call last)",
      "Cell \u001b[0;32mIn[4], line 1\u001b[0m\n\u001b[0;32m----> 1\u001b[0m \u001b[43mscrape_all_parallel\u001b[49m\u001b[43m(\u001b[49m\u001b[43m)\u001b[49m\n",
      "Cell \u001b[0;32mIn[3], line 100\u001b[0m, in \u001b[0;36mscrape_all_parallel\u001b[0;34m()\u001b[0m\n\u001b[1;32m     98\u001b[0m results \u001b[38;5;241m=\u001b[39m []\n\u001b[1;32m     99\u001b[0m \u001b[38;5;28;01mwith\u001b[39;00m tqdm(total\u001b[38;5;241m=\u001b[39m\u001b[38;5;28mlen\u001b[39m(titles), desc\u001b[38;5;241m=\u001b[39m\u001b[38;5;124m\"\u001b[39m\u001b[38;5;124mScraping pages\u001b[39m\u001b[38;5;124m\"\u001b[39m, unit\u001b[38;5;241m=\u001b[39m\u001b[38;5;124m\"\u001b[39m\u001b[38;5;124mpage\u001b[39m\u001b[38;5;124m\"\u001b[39m) \u001b[38;5;28;01mas\u001b[39;00m pbar:\n\u001b[0;32m--> 100\u001b[0m     \u001b[38;5;28;01mfor\u001b[39;00m batch \u001b[38;5;129;01min\u001b[39;00m pool\u001b[38;5;241m.\u001b[39mimap(scrape_batch, [titles[i:i\u001b[38;5;241m+\u001b[39mchunksize] \u001b[38;5;28;01mfor\u001b[39;00m i \u001b[38;5;129;01min\u001b[39;00m \u001b[38;5;28mrange\u001b[39m(\u001b[38;5;241m0\u001b[39m, \u001b[38;5;28mlen\u001b[39m(titles), chunksize)]):\n\u001b[1;32m    101\u001b[0m         results\u001b[38;5;241m.\u001b[39mappend(batch)\n\u001b[1;32m    102\u001b[0m         pbar\u001b[38;5;241m.\u001b[39mupdate(\u001b[38;5;28mlen\u001b[39m(batch))\n",
      "File \u001b[0;32m~/miniconda3/envs/py313_env/lib/python3.12/multiprocessing/pool.py:861\u001b[0m, in \u001b[0;36mIMapIterator.next\u001b[0;34m(self, timeout)\u001b[0m\n\u001b[1;32m    859\u001b[0m     \u001b[38;5;28mself\u001b[39m\u001b[38;5;241m.\u001b[39m_pool \u001b[38;5;241m=\u001b[39m \u001b[38;5;28;01mNone\u001b[39;00m\n\u001b[1;32m    860\u001b[0m     \u001b[38;5;28;01mraise\u001b[39;00m \u001b[38;5;167;01mStopIteration\u001b[39;00m \u001b[38;5;28;01mfrom\u001b[39;00m \u001b[38;5;28;01mNone\u001b[39;00m\n\u001b[0;32m--> 861\u001b[0m \u001b[38;5;28;43mself\u001b[39;49m\u001b[38;5;241;43m.\u001b[39;49m\u001b[43m_cond\u001b[49m\u001b[38;5;241;43m.\u001b[39;49m\u001b[43mwait\u001b[49m\u001b[43m(\u001b[49m\u001b[43mtimeout\u001b[49m\u001b[43m)\u001b[49m\n\u001b[1;32m    862\u001b[0m \u001b[38;5;28;01mtry\u001b[39;00m:\n\u001b[1;32m    863\u001b[0m     item \u001b[38;5;241m=\u001b[39m \u001b[38;5;28mself\u001b[39m\u001b[38;5;241m.\u001b[39m_items\u001b[38;5;241m.\u001b[39mpopleft()\n",
      "File \u001b[0;32m~/miniconda3/envs/py313_env/lib/python3.12/threading.py:355\u001b[0m, in \u001b[0;36mCondition.wait\u001b[0;34m(self, timeout)\u001b[0m\n\u001b[1;32m    353\u001b[0m \u001b[38;5;28;01mtry\u001b[39;00m:    \u001b[38;5;66;03m# restore state no matter what (e.g., KeyboardInterrupt)\u001b[39;00m\n\u001b[1;32m    354\u001b[0m     \u001b[38;5;28;01mif\u001b[39;00m timeout \u001b[38;5;129;01mis\u001b[39;00m \u001b[38;5;28;01mNone\u001b[39;00m:\n\u001b[0;32m--> 355\u001b[0m         \u001b[43mwaiter\u001b[49m\u001b[38;5;241;43m.\u001b[39;49m\u001b[43macquire\u001b[49m\u001b[43m(\u001b[49m\u001b[43m)\u001b[49m\n\u001b[1;32m    356\u001b[0m         gotit \u001b[38;5;241m=\u001b[39m \u001b[38;5;28;01mTrue\u001b[39;00m\n\u001b[1;32m    357\u001b[0m     \u001b[38;5;28;01melse\u001b[39;00m:\n",
      "\u001b[0;31mKeyboardInterrupt\u001b[0m: "
     ]
    }
   ],
   "source": [
    "scrape_all_parallel()"
   ]
  }
 ],
 "metadata": {
  "kernelspec": {
   "display_name": "py313_env",
   "language": "python",
   "name": "python3"
  },
  "language_info": {
   "codemirror_mode": {
    "name": "ipython",
    "version": 3
   },
   "file_extension": ".py",
   "mimetype": "text/x-python",
   "name": "python",
   "nbconvert_exporter": "python",
   "pygments_lexer": "ipython3",
   "version": "3.12.9"
  }
 },
 "nbformat": 4,
 "nbformat_minor": 5
}
